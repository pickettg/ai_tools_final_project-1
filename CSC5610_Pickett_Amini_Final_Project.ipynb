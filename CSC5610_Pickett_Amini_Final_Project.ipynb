{
 "cells": [
  {
   "cell_type": "code",
   "execution_count": 1,
   "id": "060b4652",
   "metadata": {},
   "outputs": [
    {
     "name": "stdout",
     "output_type": "stream",
     "text": [
      "hello Gerald and World\n"
     ]
    }
   ],
   "source": [
    "# print(\"hello Gerald and World\")"
   ]
  },
  {
   "cell_type": "code",
   "execution_count": 1,
   "id": "d96c7587",
   "metadata": {},
   "outputs": [
    {
     "name": "stdout",
     "output_type": "stream",
     "text": [
      "hello Arsalon and World\n"
     ]
    }
   ],
   "source": [
    "#print(\"hello Arsalon and World\")"
   ]
  },
  {
   "cell_type": "code",
   "execution_count": 1,
   "id": "7d28c729-92b4-48f2-a31d-fce71739f913",
   "metadata": {},
   "outputs": [],
   "source": [
    "import pandas as pd"
   ]
  },
  {
   "cell_type": "code",
   "execution_count": 2,
   "id": "7b889fce-1e2b-4206-8df5-ae1fc0a9cc63",
   "metadata": {},
   "outputs": [],
   "source": [
    "banksdf = pd.read_csv(\"C:/Users/User/csc5610/finalProj_jira/ai_tools_final_project/Banks.csv\")\n",
    "# pandas csv parameters https://pandas.pydata.org/pandas-docs/stable/reference/api/pandas.read_csv.html\n",
    "# custom delimiter df = pd.read_csv('Book1.csv', sep=';')\n",
    "# read only the first 3 columns "
   ]
  },
  {
   "cell_type": "code",
   "execution_count": 3,
   "id": "64cd2eaf-e317-4386-a2f4-629f9e4173b8",
   "metadata": {},
   "outputs": [
    {
     "data": {
      "text/html": [
       "<div>\n",
       "<style scoped>\n",
       "    .dataframe tbody tr th:only-of-type {\n",
       "        vertical-align: middle;\n",
       "    }\n",
       "\n",
       "    .dataframe tbody tr th {\n",
       "        vertical-align: top;\n",
       "    }\n",
       "\n",
       "    .dataframe thead th {\n",
       "        text-align: right;\n",
       "    }\n",
       "</style>\n",
       "<table border=\"1\" class=\"dataframe\">\n",
       "  <thead>\n",
       "    <tr style=\"text-align: right;\">\n",
       "      <th></th>\n",
       "      <th>star</th>\n",
       "      <th>like</th>\n",
       "    </tr>\n",
       "  </thead>\n",
       "  <tbody>\n",
       "    <tr>\n",
       "      <th>count</th>\n",
       "      <td>19271.000000</td>\n",
       "      <td>17769.000000</td>\n",
       "    </tr>\n",
       "    <tr>\n",
       "      <th>mean</th>\n",
       "      <td>1.432567</td>\n",
       "      <td>11.109291</td>\n",
       "    </tr>\n",
       "    <tr>\n",
       "      <th>std</th>\n",
       "      <td>1.151793</td>\n",
       "      <td>8.091683</td>\n",
       "    </tr>\n",
       "    <tr>\n",
       "      <th>min</th>\n",
       "      <td>1.000000</td>\n",
       "      <td>2.000000</td>\n",
       "    </tr>\n",
       "    <tr>\n",
       "      <th>25%</th>\n",
       "      <td>1.000000</td>\n",
       "      <td>6.000000</td>\n",
       "    </tr>\n",
       "    <tr>\n",
       "      <th>50%</th>\n",
       "      <td>1.000000</td>\n",
       "      <td>9.000000</td>\n",
       "    </tr>\n",
       "    <tr>\n",
       "      <th>75%</th>\n",
       "      <td>1.000000</td>\n",
       "      <td>14.000000</td>\n",
       "    </tr>\n",
       "    <tr>\n",
       "      <th>max</th>\n",
       "      <td>5.000000</td>\n",
       "      <td>248.000000</td>\n",
       "    </tr>\n",
       "  </tbody>\n",
       "</table>\n",
       "</div>"
      ],
      "text/plain": [
       "               star          like\n",
       "count  19271.000000  17769.000000\n",
       "mean       1.432567     11.109291\n",
       "std        1.151793      8.091683\n",
       "min        1.000000      2.000000\n",
       "25%        1.000000      6.000000\n",
       "50%        1.000000      9.000000\n",
       "75%        1.000000     14.000000\n",
       "max        5.000000    248.000000"
      ]
     },
     "execution_count": 3,
     "metadata": {},
     "output_type": "execute_result"
    }
   ],
   "source": [
    "banksdf.describe()"
   ]
  },
  {
   "cell_type": "code",
   "execution_count": 4,
   "id": "7c023e73-fe7b-44e7-908c-1743a0c341ac",
   "metadata": {},
   "outputs": [
    {
     "data": {
      "text/html": [
       "<div>\n",
       "<style scoped>\n",
       "    .dataframe tbody tr th:only-of-type {\n",
       "        vertical-align: middle;\n",
       "    }\n",
       "\n",
       "    .dataframe tbody tr th {\n",
       "        vertical-align: top;\n",
       "    }\n",
       "\n",
       "    .dataframe thead th {\n",
       "        text-align: right;\n",
       "    }\n",
       "</style>\n",
       "<table border=\"1\" class=\"dataframe\">\n",
       "  <thead>\n",
       "    <tr style=\"text-align: right;\">\n",
       "      <th></th>\n",
       "      <th>author</th>\n",
       "      <th>date</th>\n",
       "      <th>location</th>\n",
       "      <th>bank</th>\n",
       "      <th>star</th>\n",
       "      <th>text</th>\n",
       "      <th>like</th>\n",
       "    </tr>\n",
       "  </thead>\n",
       "  <tbody>\n",
       "    <tr>\n",
       "      <th>0</th>\n",
       "      <td>Kyle</td>\n",
       "      <td>31.08.2023</td>\n",
       "      <td>Magnolia, TX</td>\n",
       "      <td>merrick_bank</td>\n",
       "      <td>5</td>\n",
       "      <td>Very easy to use to view statements and make o...</td>\n",
       "      <td>NaN</td>\n",
       "    </tr>\n",
       "    <tr>\n",
       "      <th>1</th>\n",
       "      <td>Julicia</td>\n",
       "      <td>23.08.2023</td>\n",
       "      <td>Columbus, GA</td>\n",
       "      <td>merrick_bank</td>\n",
       "      <td>5</td>\n",
       "      <td>Merrick Bank has always been good to me for bu...</td>\n",
       "      <td>NaN</td>\n",
       "    </tr>\n",
       "    <tr>\n",
       "      <th>2</th>\n",
       "      <td>Karen</td>\n",
       "      <td>2.06.2023</td>\n",
       "      <td>Marrero, LA</td>\n",
       "      <td>merrick_bank</td>\n",
       "      <td>4</td>\n",
       "      <td>Times are tough for everyone and I have worked...</td>\n",
       "      <td>3.0</td>\n",
       "    </tr>\n",
       "    <tr>\n",
       "      <th>3</th>\n",
       "      <td>Brent</td>\n",
       "      <td>29.03.2023</td>\n",
       "      <td>Moultrie, GA</td>\n",
       "      <td>merrick_bank</td>\n",
       "      <td>5</td>\n",
       "      <td>I can not asked for a better Credit Card Compa...</td>\n",
       "      <td>3.0</td>\n",
       "    </tr>\n",
       "    <tr>\n",
       "      <th>4</th>\n",
       "      <td>Sharon</td>\n",
       "      <td>23.11.2022</td>\n",
       "      <td>Burnham, IL</td>\n",
       "      <td>merrick_bank</td>\n",
       "      <td>5</td>\n",
       "      <td>Updated on 02/10/2023: I was happy to sign for...</td>\n",
       "      <td>3.0</td>\n",
       "    </tr>\n",
       "  </tbody>\n",
       "</table>\n",
       "</div>"
      ],
      "text/plain": [
       "    author        date      location          bank  star  \\\n",
       "0     Kyle  31.08.2023  Magnolia, TX  merrick_bank     5   \n",
       "1  Julicia  23.08.2023  Columbus, GA  merrick_bank     5   \n",
       "2    Karen   2.06.2023   Marrero, LA  merrick_bank     4   \n",
       "3    Brent  29.03.2023  Moultrie, GA  merrick_bank     5   \n",
       "4   Sharon  23.11.2022   Burnham, IL  merrick_bank     5   \n",
       "\n",
       "                                                text  like  \n",
       "0  Very easy to use to view statements and make o...   NaN  \n",
       "1  Merrick Bank has always been good to me for bu...   NaN  \n",
       "2  Times are tough for everyone and I have worked...   3.0  \n",
       "3  I can not asked for a better Credit Card Compa...   3.0  \n",
       "4  Updated on 02/10/2023: I was happy to sign for...   3.0  "
      ]
     },
     "execution_count": 4,
     "metadata": {},
     "output_type": "execute_result"
    }
   ],
   "source": [
    "banksdf.head()"
   ]
  },
  {
   "cell_type": "code",
   "execution_count": 5,
   "id": "db431938-b793-4a07-95a4-20c6b6bc527c",
   "metadata": {},
   "outputs": [
    {
     "name": "stdout",
     "output_type": "stream",
     "text": [
      "<class 'pandas.core.frame.DataFrame'>\n",
      "RangeIndex: 19271 entries, 0 to 19270\n",
      "Data columns (total 7 columns):\n",
      " #   Column    Non-Null Count  Dtype  \n",
      "---  ------    --------------  -----  \n",
      " 0   author    19269 non-null  object \n",
      " 1   date      19271 non-null  object \n",
      " 2   location  19271 non-null  object \n",
      " 3   bank      19271 non-null  object \n",
      " 4   star      19271 non-null  int64  \n",
      " 5   text      19181 non-null  object \n",
      " 6   like      17769 non-null  float64\n",
      "dtypes: float64(1), int64(1), object(5)\n",
      "memory usage: 1.0+ MB\n"
     ]
    }
   ],
   "source": [
    "banksdf.info()"
   ]
  },
  {
   "cell_type": "code",
   "execution_count": 6,
   "id": "bbdf8748-c01c-4401-88d6-ce87c7aea864",
   "metadata": {},
   "outputs": [
    {
     "data": {
      "text/html": [
       "<div>\n",
       "<style scoped>\n",
       "    .dataframe tbody tr th:only-of-type {\n",
       "        vertical-align: middle;\n",
       "    }\n",
       "\n",
       "    .dataframe tbody tr th {\n",
       "        vertical-align: top;\n",
       "    }\n",
       "\n",
       "    .dataframe thead th {\n",
       "        text-align: right;\n",
       "    }\n",
       "</style>\n",
       "<table border=\"1\" class=\"dataframe\">\n",
       "  <thead>\n",
       "    <tr style=\"text-align: right;\">\n",
       "      <th></th>\n",
       "      <th>author</th>\n",
       "      <th>date</th>\n",
       "      <th>location</th>\n",
       "      <th>bank</th>\n",
       "      <th>star</th>\n",
       "      <th>text</th>\n",
       "      <th>like</th>\n",
       "    </tr>\n",
       "  </thead>\n",
       "  <tbody>\n",
       "    <tr>\n",
       "      <th>19266</th>\n",
       "      <td>J.</td>\n",
       "      <td>30.01.2017</td>\n",
       "      <td>Salem, OR</td>\n",
       "      <td>tcf_bank</td>\n",
       "      <td>1</td>\n",
       "      <td>Paid my 1st payment on time. They sent me a la...</td>\n",
       "      <td>11.0</td>\n",
       "    </tr>\n",
       "    <tr>\n",
       "      <th>19267</th>\n",
       "      <td>Destiny</td>\n",
       "      <td>28.01.2017</td>\n",
       "      <td>Andover, MN</td>\n",
       "      <td>tcf_bank</td>\n",
       "      <td>1</td>\n",
       "      <td>I have banked with TCF for about 4 years now a...</td>\n",
       "      <td>12.0</td>\n",
       "    </tr>\n",
       "    <tr>\n",
       "      <th>19268</th>\n",
       "      <td>Sean</td>\n",
       "      <td>25.01.2017</td>\n",
       "      <td>Bothell, WA</td>\n",
       "      <td>tcf_bank</td>\n",
       "      <td>1</td>\n",
       "      <td>Most inconvenient bank ever. As a business own...</td>\n",
       "      <td>10.0</td>\n",
       "    </tr>\n",
       "    <tr>\n",
       "      <th>19269</th>\n",
       "      <td>Edgar</td>\n",
       "      <td>12.01.2017</td>\n",
       "      <td>Minneapolis, MI</td>\n",
       "      <td>tcf_bank</td>\n",
       "      <td>1</td>\n",
       "      <td>Well I've been with TCF Bank for 3 plus years ...</td>\n",
       "      <td>12.0</td>\n",
       "    </tr>\n",
       "    <tr>\n",
       "      <th>19270</th>\n",
       "      <td>edward</td>\n",
       "      <td>2.01.2017</td>\n",
       "      <td>Suite B, MI</td>\n",
       "      <td>tcf_bank</td>\n",
       "      <td>1</td>\n",
       "      <td>Deposited $800 3 days ago by certified check a...</td>\n",
       "      <td>10.0</td>\n",
       "    </tr>\n",
       "  </tbody>\n",
       "</table>\n",
       "</div>"
      ],
      "text/plain": [
       "        author        date         location      bank  star  \\\n",
       "19266       J.  30.01.2017        Salem, OR  tcf_bank     1   \n",
       "19267  Destiny  28.01.2017      Andover, MN  tcf_bank     1   \n",
       "19268     Sean  25.01.2017      Bothell, WA  tcf_bank     1   \n",
       "19269    Edgar  12.01.2017  Minneapolis, MI  tcf_bank     1   \n",
       "19270   edward   2.01.2017      Suite B, MI  tcf_bank     1   \n",
       "\n",
       "                                                    text  like  \n",
       "19266  Paid my 1st payment on time. They sent me a la...  11.0  \n",
       "19267  I have banked with TCF for about 4 years now a...  12.0  \n",
       "19268  Most inconvenient bank ever. As a business own...  10.0  \n",
       "19269  Well I've been with TCF Bank for 3 plus years ...  12.0  \n",
       "19270  Deposited $800 3 days ago by certified check a...  10.0  "
      ]
     },
     "execution_count": 6,
     "metadata": {},
     "output_type": "execute_result"
    }
   ],
   "source": [
    "banksdf.tail()"
   ]
  },
  {
   "cell_type": "markdown",
   "id": "5bace61e-29f2-4b58-911f-7cf37ceb48f4",
   "metadata": {},
   "source": [
    "#### Clean up data types"
   ]
  },
  {
   "cell_type": "code",
   "execution_count": 7,
   "id": "ab12a390-7fa6-467d-bae9-6eefd717ec92",
   "metadata": {},
   "outputs": [
    {
     "data": {
      "text/plain": [
       "author       object\n",
       "date         object\n",
       "location     object\n",
       "bank         object\n",
       "star          int64\n",
       "text         object\n",
       "like        float64\n",
       "dtype: object"
      ]
     },
     "execution_count": 7,
     "metadata": {},
     "output_type": "execute_result"
    }
   ],
   "source": [
    "banksdf.dtypes  #check to change object to category for the below features"
   ]
  },
  {
   "cell_type": "code",
   "execution_count": 18,
   "id": "bcd1e110-e986-4d5d-9cd4-c3510700a6ab",
   "metadata": {},
   "outputs": [],
   "source": [
    "banksdf[\"author\"] = banksdf[\"author\"].astype(\"category\")  "
   ]
  },
  {
   "cell_type": "code",
   "execution_count": 19,
   "id": "7bca4a91-151b-46b9-a8a0-4a506d2c100d",
   "metadata": {},
   "outputs": [],
   "source": [
    "banksdf[\"location\"] = banksdf[\"location\"].astype(\"category\")  "
   ]
  },
  {
   "cell_type": "code",
   "execution_count": 20,
   "id": "df75f391-354d-49c8-bbb0-9b78f9973654",
   "metadata": {},
   "outputs": [],
   "source": [
    "banksdf[\"bank\"] = banksdf[\"bank\"].astype(\"category\")  "
   ]
  },
  {
   "cell_type": "code",
   "execution_count": 21,
   "id": "085aa2c0-5a92-447a-9bea-6e2a05e60f96",
   "metadata": {},
   "outputs": [],
   "source": [
    "banksdf[\"text\"] = banksdf[\"text\"].astype(\"category\")  "
   ]
  },
  {
   "cell_type": "code",
   "execution_count": 22,
   "id": "c3117d8a-9df9-4b11-8e90-c1e7a31f8750",
   "metadata": {},
   "outputs": [],
   "source": [
    "banksdf[\"date\"] = banksdf[\"date\"].astype(\"category\")  "
   ]
  },
  {
   "cell_type": "code",
   "execution_count": 23,
   "id": "6fff9c08-34d0-43c0-b547-dc3f4f85b7e3",
   "metadata": {},
   "outputs": [
    {
     "data": {
      "text/plain": [
       "author      category\n",
       "date        category\n",
       "location    category\n",
       "bank        category\n",
       "star           int64\n",
       "text        category\n",
       "like         float64\n",
       "dtype: object"
      ]
     },
     "execution_count": 23,
     "metadata": {},
     "output_type": "execute_result"
    }
   ],
   "source": [
    "banksdf.dtypes"
   ]
  },
  {
   "cell_type": "code",
   "execution_count": null,
   "id": "a0f34175-8f26-4485-bf39-4ea3dfddff7f",
   "metadata": {},
   "outputs": [],
   "source": []
  },
  {
   "cell_type": "markdown",
   "id": "55b0af34-50da-4343-be1a-74407882dc4c",
   "metadata": {},
   "source": [
    "#### Clean up NAN valuess"
   ]
  },
  {
   "cell_type": "code",
   "execution_count": 8,
   "id": "755033a6-ecea-4b09-af37-0f806bf8f429",
   "metadata": {},
   "outputs": [
    {
     "data": {
      "text/plain": [
       "author         2\n",
       "date           0\n",
       "location       0\n",
       "bank           0\n",
       "star           0\n",
       "text          90\n",
       "like        1502\n",
       "dtype: int64"
      ]
     },
     "execution_count": 8,
     "metadata": {},
     "output_type": "execute_result"
    }
   ],
   "source": [
    "banksdf.isna().sum()  #check the NANs  ?change like NANs to 0, drop the 90 text NAN, change 2 author NAN to \"unknown\""
   ]
  },
  {
   "cell_type": "code",
   "execution_count": null,
   "id": "bd1c0fc2-229d-4abf-ad94-3a3202247ea9",
   "metadata": {},
   "outputs": [],
   "source": [
    "# since text data is important any observation with no text should be dropped but those observations have stars and likes\n",
    "# ocnsider analyzing the NaN text based on stars and likes"
   ]
  },
  {
   "cell_type": "code",
   "execution_count": 24,
   "id": "3464256b-9002-45a8-8bf2-3647929ee1cb",
   "metadata": {},
   "outputs": [
    {
     "data": {
      "text/html": [
       "<div>\n",
       "<style scoped>\n",
       "    .dataframe tbody tr th:only-of-type {\n",
       "        vertical-align: middle;\n",
       "    }\n",
       "\n",
       "    .dataframe tbody tr th {\n",
       "        vertical-align: top;\n",
       "    }\n",
       "\n",
       "    .dataframe thead th {\n",
       "        text-align: right;\n",
       "    }\n",
       "</style>\n",
       "<table border=\"1\" class=\"dataframe\">\n",
       "  <thead>\n",
       "    <tr style=\"text-align: right;\">\n",
       "      <th></th>\n",
       "      <th>author</th>\n",
       "      <th>date</th>\n",
       "      <th>location</th>\n",
       "      <th>bank</th>\n",
       "      <th>star</th>\n",
       "      <th>text</th>\n",
       "      <th>like</th>\n",
       "    </tr>\n",
       "  </thead>\n",
       "  <tbody>\n",
       "    <tr>\n",
       "      <th>610</th>\n",
       "      <td>Danny</td>\n",
       "      <td>17.05.2019</td>\n",
       "      <td>Wetumpka, AL</td>\n",
       "      <td>merrick_bank</td>\n",
       "      <td>3</td>\n",
       "      <td>NaN</td>\n",
       "      <td>5.0</td>\n",
       "    </tr>\n",
       "    <tr>\n",
       "      <th>1195</th>\n",
       "      <td>Alex</td>\n",
       "      <td>23.04.2021</td>\n",
       "      <td>London, Other</td>\n",
       "      <td>hsbc</td>\n",
       "      <td>1</td>\n",
       "      <td>NaN</td>\n",
       "      <td>7.0</td>\n",
       "    </tr>\n",
       "    <tr>\n",
       "      <th>1198</th>\n",
       "      <td>Al</td>\n",
       "      <td>17.12.2020</td>\n",
       "      <td>Dubai, Other</td>\n",
       "      <td>hsbc</td>\n",
       "      <td>1</td>\n",
       "      <td>NaN</td>\n",
       "      <td>10.0</td>\n",
       "    </tr>\n",
       "    <tr>\n",
       "      <th>1592</th>\n",
       "      <td>Robert</td>\n",
       "      <td>23.12.2018</td>\n",
       "      <td>Gaithersburg, MD</td>\n",
       "      <td>bbt_bank</td>\n",
       "      <td>1</td>\n",
       "      <td>NaN</td>\n",
       "      <td>20.0</td>\n",
       "    </tr>\n",
       "    <tr>\n",
       "      <th>1669</th>\n",
       "      <td>Dan</td>\n",
       "      <td>3.04.2018</td>\n",
       "      <td>Bomley, KY</td>\n",
       "      <td>bbt_bank</td>\n",
       "      <td>1</td>\n",
       "      <td>NaN</td>\n",
       "      <td>10.0</td>\n",
       "    </tr>\n",
       "    <tr>\n",
       "      <th>...</th>\n",
       "      <td>...</td>\n",
       "      <td>...</td>\n",
       "      <td>...</td>\n",
       "      <td>...</td>\n",
       "      <td>...</td>\n",
       "      <td>...</td>\n",
       "      <td>...</td>\n",
       "    </tr>\n",
       "    <tr>\n",
       "      <th>17803</th>\n",
       "      <td>Tom</td>\n",
       "      <td>5.05.2022</td>\n",
       "      <td>Alton, IL</td>\n",
       "      <td>credit_one</td>\n",
       "      <td>1</td>\n",
       "      <td>NaN</td>\n",
       "      <td>5.0</td>\n",
       "    </tr>\n",
       "    <tr>\n",
       "      <th>18047</th>\n",
       "      <td>Marco</td>\n",
       "      <td>28.04.2020</td>\n",
       "      <td>Wahiawa, HI</td>\n",
       "      <td>credit_one</td>\n",
       "      <td>1</td>\n",
       "      <td>NaN</td>\n",
       "      <td>28.0</td>\n",
       "    </tr>\n",
       "    <tr>\n",
       "      <th>18211</th>\n",
       "      <td>Sean</td>\n",
       "      <td>11.05.2019</td>\n",
       "      <td>Talent, OR</td>\n",
       "      <td>credit_one</td>\n",
       "      <td>1</td>\n",
       "      <td>NaN</td>\n",
       "      <td>3.0</td>\n",
       "    </tr>\n",
       "    <tr>\n",
       "      <th>18416</th>\n",
       "      <td>Robert</td>\n",
       "      <td>7.08.2018</td>\n",
       "      <td>San Francisco, CA</td>\n",
       "      <td>credit_one</td>\n",
       "      <td>1</td>\n",
       "      <td>NaN</td>\n",
       "      <td>13.0</td>\n",
       "    </tr>\n",
       "    <tr>\n",
       "      <th>18521</th>\n",
       "      <td>k</td>\n",
       "      <td>10.02.2018</td>\n",
       "      <td>Charlotte, NC</td>\n",
       "      <td>credit_one</td>\n",
       "      <td>1</td>\n",
       "      <td>NaN</td>\n",
       "      <td>8.0</td>\n",
       "    </tr>\n",
       "  </tbody>\n",
       "</table>\n",
       "<p>90 rows × 7 columns</p>\n",
       "</div>"
      ],
      "text/plain": [
       "       author        date           location          bank  star text  like\n",
       "610     Danny  17.05.2019       Wetumpka, AL  merrick_bank     3  NaN   5.0\n",
       "1195     Alex  23.04.2021      London, Other          hsbc     1  NaN   7.0\n",
       "1198       Al  17.12.2020       Dubai, Other          hsbc     1  NaN  10.0\n",
       "1592   Robert  23.12.2018   Gaithersburg, MD      bbt_bank     1  NaN  20.0\n",
       "1669      Dan   3.04.2018         Bomley, KY      bbt_bank     1  NaN  10.0\n",
       "...       ...         ...                ...           ...   ...  ...   ...\n",
       "17803     Tom   5.05.2022          Alton, IL    credit_one     1  NaN   5.0\n",
       "18047   Marco  28.04.2020        Wahiawa, HI    credit_one     1  NaN  28.0\n",
       "18211    Sean  11.05.2019         Talent, OR    credit_one     1  NaN   3.0\n",
       "18416  Robert   7.08.2018  San Francisco, CA    credit_one     1  NaN  13.0\n",
       "18521       k  10.02.2018      Charlotte, NC    credit_one     1  NaN   8.0\n",
       "\n",
       "[90 rows x 7 columns]"
      ]
     },
     "execution_count": 24,
     "metadata": {},
     "output_type": "execute_result"
    }
   ],
   "source": [
    "banksdf.loc[banksdf['text'].isna()]"
   ]
  },
  {
   "cell_type": "code",
   "execution_count": 29,
   "id": "aad24596-8116-4bf7-84b6-f492a83a9190",
   "metadata": {},
   "outputs": [],
   "source": [
    "like_nans = banksdf[banksdf['like'].isna()]  #get the list of rows with like == NaN"
   ]
  },
  {
   "cell_type": "code",
   "execution_count": 30,
   "id": "bccc7644-c539-43f8-a1d2-6c70b54ee22c",
   "metadata": {},
   "outputs": [
    {
     "data": {
      "text/plain": [
       "1502"
      ]
     },
     "execution_count": 30,
     "metadata": {},
     "output_type": "execute_result"
    }
   ],
   "source": [
    "len(like_nans)"
   ]
  },
  {
   "cell_type": "code",
   "execution_count": null,
   "id": "8a1b806c-b101-4ec3-ac0e-7e3a7f12b10f",
   "metadata": {},
   "outputs": [],
   "source": []
  },
  {
   "cell_type": "code",
   "execution_count": null,
   "id": "7a45748f-4412-44cb-8888-9ee6216dfa8b",
   "metadata": {},
   "outputs": [],
   "source": []
  },
  {
   "cell_type": "code",
   "execution_count": null,
   "id": "00755ac5-a4b5-48fa-a9a2-04df01edcd42",
   "metadata": {},
   "outputs": [],
   "source": []
  },
  {
   "cell_type": "code",
   "execution_count": null,
   "id": "9597bbe5-658e-49cc-8cd9-fd2bf2332406",
   "metadata": {},
   "outputs": [],
   "source": []
  },
  {
   "cell_type": "code",
   "execution_count": null,
   "id": "014bc752-f8c5-4297-9544-fceeca7c3e2a",
   "metadata": {},
   "outputs": [],
   "source": []
  },
  {
   "cell_type": "code",
   "execution_count": null,
   "id": "e911cfa4-f42c-4442-a788-df78b2a8a037",
   "metadata": {},
   "outputs": [],
   "source": []
  },
  {
   "cell_type": "code",
   "execution_count": null,
   "id": "f306060d-4e6e-4d53-9c4a-56a0372c4372",
   "metadata": {},
   "outputs": [],
   "source": []
  },
  {
   "cell_type": "code",
   "execution_count": null,
   "id": "1a48fa60-13a9-4bf9-a421-55660b7ee843",
   "metadata": {},
   "outputs": [],
   "source": []
  },
  {
   "cell_type": "code",
   "execution_count": null,
   "id": "6d4473ae-6c64-47ae-b10e-a49f02cd4f31",
   "metadata": {},
   "outputs": [],
   "source": []
  },
  {
   "cell_type": "code",
   "execution_count": 14,
   "id": "cbb6ff83-8f1c-4962-8bb4-72643d51e814",
   "metadata": {},
   "outputs": [
    {
     "data": {
      "text/html": [
       "<div>\n",
       "<style scoped>\n",
       "    .dataframe tbody tr th:only-of-type {\n",
       "        vertical-align: middle;\n",
       "    }\n",
       "\n",
       "    .dataframe tbody tr th {\n",
       "        vertical-align: top;\n",
       "    }\n",
       "\n",
       "    .dataframe thead th {\n",
       "        text-align: right;\n",
       "    }\n",
       "</style>\n",
       "<table border=\"1\" class=\"dataframe\">\n",
       "  <thead>\n",
       "    <tr style=\"text-align: right;\">\n",
       "      <th></th>\n",
       "      <th>author</th>\n",
       "      <th>date</th>\n",
       "      <th>location</th>\n",
       "      <th>bank</th>\n",
       "      <th>star</th>\n",
       "      <th>text</th>\n",
       "      <th>like</th>\n",
       "    </tr>\n",
       "  </thead>\n",
       "  <tbody>\n",
       "    <tr>\n",
       "      <th>2586</th>\n",
       "      <td>NaN</td>\n",
       "      <td>9.09.2020</td>\n",
       "      <td>Seattle, WA</td>\n",
       "      <td>us_bank</td>\n",
       "      <td>1</td>\n",
       "      <td>We attempted to refinance our house using US B...</td>\n",
       "      <td>17.0</td>\n",
       "    </tr>\n",
       "    <tr>\n",
       "      <th>12779</th>\n",
       "      <td>NaN</td>\n",
       "      <td>8.12.2021</td>\n",
       "      <td>Clinton Township, MI</td>\n",
       "      <td>huntington-bank</td>\n",
       "      <td>1</td>\n",
       "      <td>Rude, doesn't care. Wants me to keep coming ba...</td>\n",
       "      <td>9.0</td>\n",
       "    </tr>\n",
       "  </tbody>\n",
       "</table>\n",
       "</div>"
      ],
      "text/plain": [
       "      author       date              location             bank  star  \\\n",
       "2586     NaN  9.09.2020           Seattle, WA          us_bank     1   \n",
       "12779    NaN  8.12.2021  Clinton Township, MI  huntington-bank     1   \n",
       "\n",
       "                                                    text  like  \n",
       "2586   We attempted to refinance our house using US B...  17.0  \n",
       "12779  Rude, doesn't care. Wants me to keep coming ba...   9.0  "
      ]
     },
     "execution_count": 14,
     "metadata": {},
     "output_type": "execute_result"
    }
   ],
   "source": [
    "banksdf.loc[banksdf['author'].isna()]"
   ]
  },
  {
   "cell_type": "code",
   "execution_count": 15,
   "id": "d84b21cb-6d42-48bd-ac70-cd5410d26ea4",
   "metadata": {},
   "outputs": [],
   "source": [
    "#change the above two observations author names to 'Anonymous'\n",
    "banksdf.update(banksdf.iloc[[2586]].fillna('Anonymous'))\n",
    "banksdf.update(banksdf.iloc[[12779]].fillna('Anonymous'))"
   ]
  },
  {
   "cell_type": "code",
   "execution_count": 17,
   "id": "23f43b75-bab9-47bc-b0aa-b8310299b92f",
   "metadata": {},
   "outputs": [
    {
     "data": {
      "text/html": [
       "<div>\n",
       "<style scoped>\n",
       "    .dataframe tbody tr th:only-of-type {\n",
       "        vertical-align: middle;\n",
       "    }\n",
       "\n",
       "    .dataframe tbody tr th {\n",
       "        vertical-align: top;\n",
       "    }\n",
       "\n",
       "    .dataframe thead th {\n",
       "        text-align: right;\n",
       "    }\n",
       "</style>\n",
       "<table border=\"1\" class=\"dataframe\">\n",
       "  <thead>\n",
       "    <tr style=\"text-align: right;\">\n",
       "      <th></th>\n",
       "      <th>author</th>\n",
       "      <th>date</th>\n",
       "      <th>location</th>\n",
       "      <th>bank</th>\n",
       "      <th>star</th>\n",
       "      <th>text</th>\n",
       "      <th>like</th>\n",
       "    </tr>\n",
       "  </thead>\n",
       "  <tbody>\n",
       "  </tbody>\n",
       "</table>\n",
       "</div>"
      ],
      "text/plain": [
       "Empty DataFrame\n",
       "Columns: [author, date, location, bank, star, text, like]\n",
       "Index: []"
      ]
     },
     "execution_count": 17,
     "metadata": {},
     "output_type": "execute_result"
    }
   ],
   "source": [
    "banksdf.loc[banksdf['author'].isna()]"
   ]
  },
  {
   "cell_type": "code",
   "execution_count": null,
   "id": "e0efca4a-c3bb-470a-b229-6df842c79841",
   "metadata": {},
   "outputs": [],
   "source": []
  },
  {
   "cell_type": "code",
   "execution_count": 25,
   "id": "ee13fe06-cfa2-4426-ad8f-b5afb6ec70e2",
   "metadata": {},
   "outputs": [],
   "source": [
    "# for the observations with NaN for likes change the NaN to 0\n",
    "#save indexes of these rows in a list, then use the list to update the rows"
   ]
  },
  {
   "cell_type": "code",
   "execution_count": null,
   "id": "ae86a618-ecc7-46c7-9e5a-d97ee87550f1",
   "metadata": {},
   "outputs": [],
   "source": []
  },
  {
   "cell_type": "code",
   "execution_count": null,
   "id": "609042bf-4c55-49f4-8181-13ba07df94fb",
   "metadata": {},
   "outputs": [],
   "source": []
  },
  {
   "cell_type": "code",
   "execution_count": null,
   "id": "8733eccb-d95b-4802-ba9e-c25709cfcf14",
   "metadata": {},
   "outputs": [],
   "source": []
  },
  {
   "cell_type": "code",
   "execution_count": null,
   "id": "11d6f079-c593-4255-90ac-e6576ecca5a4",
   "metadata": {},
   "outputs": [],
   "source": []
  },
  {
   "cell_type": "code",
   "execution_count": null,
   "id": "cd8a9a84-8ef4-46ea-8252-6f59b3590894",
   "metadata": {},
   "outputs": [],
   "source": []
  },
  {
   "cell_type": "code",
   "execution_count": null,
   "id": "244e4104-f48f-4d1b-bc3e-a84bd0b4c1c8",
   "metadata": {},
   "outputs": [],
   "source": []
  },
  {
   "cell_type": "code",
   "execution_count": null,
   "id": "b4a1e161-4a29-4f57-af77-62b151563618",
   "metadata": {},
   "outputs": [],
   "source": []
  },
  {
   "cell_type": "code",
   "execution_count": null,
   "id": "c8c4df0e-7f6f-4980-b9de-6479549246b8",
   "metadata": {},
   "outputs": [],
   "source": []
  },
  {
   "cell_type": "code",
   "execution_count": null,
   "id": "1fc1a1cc-5a42-46f2-8c15-1a2ffdbe86bb",
   "metadata": {},
   "outputs": [],
   "source": []
  },
  {
   "cell_type": "code",
   "execution_count": null,
   "id": "e7199f65-13c0-4399-815b-fe6485bbd3f7",
   "metadata": {},
   "outputs": [],
   "source": []
  },
  {
   "cell_type": "code",
   "execution_count": null,
   "id": "f8401e26-d24d-447c-a3d9-15b64dc1dd11",
   "metadata": {},
   "outputs": [],
   "source": []
  },
  {
   "cell_type": "code",
   "execution_count": null,
   "id": "7cf284df-40f0-4ba4-b8db-df84a4f4b11d",
   "metadata": {},
   "outputs": [],
   "source": []
  },
  {
   "cell_type": "code",
   "execution_count": null,
   "id": "d42cb76d-cf16-4b88-9194-a8091dc89115",
   "metadata": {},
   "outputs": [],
   "source": []
  }
 ],
 "metadata": {
  "kernelspec": {
   "display_name": "Python 3 (ipykernel)",
   "language": "python",
   "name": "python3"
  },
  "language_info": {
   "codemirror_mode": {
    "name": "ipython",
    "version": 3
   },
   "file_extension": ".py",
   "mimetype": "text/x-python",
   "name": "python",
   "nbconvert_exporter": "python",
   "pygments_lexer": "ipython3",
   "version": "3.11.4"
  }
 },
 "nbformat": 4,
 "nbformat_minor": 5
}
